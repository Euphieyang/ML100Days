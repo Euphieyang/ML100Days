{
 "cells": [
  {
   "cell_type": "markdown",
   "id": "95dcce2f",
   "metadata": {},
   "source": [
    "# Homework"
   ]
  },
  {
   "cell_type": "markdown",
   "id": "fdb3eda6",
   "metadata": {},
   "source": [
    "## 1. [簡答題] 請問 type(...) 跟 a.dtype 這兩個語法有什麼不同？"
   ]
  },
  {
   "cell_type": "markdown",
   "id": "adf5ef1d",
   "metadata": {},
   "source": [
    "```\n",
    "print('type(a): ', type(a))\n",
    "print('a.dtype: ', a.dtype)\n",
    "```"
   ]
  },
  {
   "cell_type": "markdown",
   "id": "c9d48e77",
   "metadata": {},
   "source": [
    "type(a): 用於獲取變數a資料型態"
   ]
  },
  {
   "cell_type": "markdown",
   "id": "eab14f68",
   "metadata": {},
   "source": [
    "a.dtype(): 用於獲取變數a，這陣列元素的資料型態"
   ]
  },
  {
   "cell_type": "code",
   "execution_count": 25,
   "id": "929f9d10",
   "metadata": {},
   "outputs": [
    {
     "data": {
      "text/plain": [
       "array([[ 0,  1,  2,  3],\n",
       "       [ 4,  5,  6,  7],\n",
       "       [ 8,  9, 10, 11]])"
      ]
     },
     "execution_count": 25,
     "metadata": {},
     "output_type": "execute_result"
    }
   ],
   "source": [
    "import numpy as np\n",
    "a=np.arange(12).reshape(3,4)\n",
    "a"
   ]
  },
  {
   "cell_type": "code",
   "execution_count": 37,
   "id": "ae97edc9",
   "metadata": {},
   "outputs": [
    {
     "data": {
      "text/plain": [
       "numpy.ndarray"
      ]
     },
     "execution_count": 37,
     "metadata": {},
     "output_type": "execute_result"
    }
   ],
   "source": [
    "type(a)"
   ]
  },
  {
   "cell_type": "code",
   "execution_count": 39,
   "id": "c7b886ab",
   "metadata": {},
   "outputs": [
    {
     "data": {
      "text/plain": [
       "dtype('int32')"
      ]
     },
     "execution_count": 39,
     "metadata": {},
     "output_type": "execute_result"
    }
   ],
   "source": [
    "a.dtype"
   ]
  },
  {
   "cell_type": "code",
   "execution_count": 47,
   "id": "c98bf095",
   "metadata": {},
   "outputs": [
    {
     "data": {
      "text/plain": [
       "True"
      ]
     },
     "execution_count": 47,
     "metadata": {},
     "output_type": "execute_result"
    }
   ],
   "source": [
    "a.dtype is np.dtype(int)"
   ]
  },
  {
   "cell_type": "markdown",
   "id": "b8db88c9",
   "metadata": {},
   "source": [
    "## 2. 請撰寫一個判斷 a 的元素是否等於指定資料型態的函式"
   ]
  },
  {
   "cell_type": "code",
   "execution_count": 1,
   "id": "17746e99",
   "metadata": {},
   "outputs": [],
   "source": [
    "import numpy as np"
   ]
  },
  {
   "cell_type": "code",
   "execution_count": 34,
   "id": "71673c11",
   "metadata": {},
   "outputs": [],
   "source": [
    "def is_dtype(a,t):\n",
    "    return a.dtype is np.dtype(t)"
   ]
  },
  {
   "cell_type": "code",
   "execution_count": 35,
   "id": "421b69ff",
   "metadata": {},
   "outputs": [],
   "source": [
    "a = np.random.randint(10, size=6) "
   ]
  },
  {
   "cell_type": "code",
   "execution_count": 36,
   "id": "3fccfdd5",
   "metadata": {},
   "outputs": [
    {
     "name": "stdout",
     "output_type": "stream",
     "text": [
      "True\n",
      "True\n",
      "True\n"
     ]
    },
    {
     "name": "stderr",
     "output_type": "stream",
     "text": [
      "C:\\Users\\euphi\\AppData\\Local\\Temp/ipykernel_6240/3518097261.py:5: DeprecationWarning: `np.int` is a deprecated alias for the builtin `int`. To silence this warning, use `int` by itself. Doing this will not modify any behavior and is safe. When replacing `np.int`, you may wish to use e.g. `np.int64` or `np.int32` to specify the precision. If you wish to review your current use, check the release note link for additional information.\n",
      "Deprecated in NumPy 1.20; for more details and guidance: https://numpy.org/devdocs/release/1.20.0-notes.html#deprecations\n",
      "  print(is_dtype(a, np.int)) # True\n"
     ]
    }
   ],
   "source": [
    "# 測試一\n",
    "print(is_dtype(a, 'int')) # True\n",
    "\n",
    "# 測試二\n",
    "print(is_dtype(a, np.int)) # True\n",
    "\n",
    "# 測試三\n",
    "print(is_dtype(a, np.dtype('int'))) # True"
   ]
  },
  {
   "cell_type": "markdown",
   "id": "4eb028d8",
   "metadata": {},
   "source": [
    "## 3. [簡答題] 承上題，請判斷下列三種寫法為何不正確？"
   ]
  },
  {
   "cell_type": "markdown",
   "id": "61a64577",
   "metadata": {},
   "source": [
    "```\n",
    "def is_dtype(a, t):\n",
    "    return a.dtype is t\n",
    "\n",
    "def is_dtype(a, t):\n",
    "    return type(a) == np.dtype(t)\n",
    "\n",
    "def is_dtype(a, t):\n",
    "    return type(a) is np.dtype(t)\n",
    "```"
   ]
  },
  {
   "cell_type": "markdown",
   "id": "ed0c1e98",
   "metadata": {},
   "source": [
    "由於is為強比較，必須所有規格相同才為正確答案，要跟 np.dtype 物件來相比；相反的==為考慮自定義範圍，限制少，可以接受字串或物件的形式"
   ]
  },
  {
   "cell_type": "markdown",
   "id": "6052e1fa",
   "metadata": {},
   "source": [
    "type()是運用在表示變數a本身的型態，而其本身型態為numpy.ndarray，因此輸出結果為False，和我們想闡述的陣列元素型態t不太相同，應使用a.dtype表示"
   ]
  }
 ],
 "metadata": {
  "kernelspec": {
   "display_name": "Python 3 (ipykernel)",
   "language": "python",
   "name": "python3"
  },
  "language_info": {
   "codemirror_mode": {
    "name": "ipython",
    "version": 3
   },
   "file_extension": ".py",
   "mimetype": "text/x-python",
   "name": "python",
   "nbconvert_exporter": "python",
   "pygments_lexer": "ipython3",
   "version": "3.9.7"
  }
 },
 "nbformat": 4,
 "nbformat_minor": 5
}
